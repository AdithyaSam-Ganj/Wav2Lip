{
  "nbformat": 4,
  "nbformat_minor": 0,
  "metadata": {
    "colab": {
      "provenance": [],
      "gpuType": "T4"
    },
    "kernelspec": {
      "name": "python3",
      "display_name": "Python 3"
    },
    "language_info": {
      "name": "python"
    },
    "accelerator": "GPU"
  },
  "cells": [
    {
      "cell_type": "markdown",
      "source": [
        "## All coding work has been done on colab for the simple reason that I do not have an SSD on my PC.\n",
        "\n",
        "I have used Wav2Lip package from IIIT Hyderabad toperform the lip sync task. I have first installed all the dependancies and imported a lot of packages that I have used for this project   "
      ],
      "metadata": {
        "id": "hnpxy2y33mBp"
      }
    },
    {
      "cell_type": "markdown",
      "source": [
        "# Installing Dependencies and Packages\n"
      ],
      "metadata": {
        "id": "P42ALHkDAtTi"
      }
    },
    {
      "cell_type": "code",
      "source": [
        "!rm -rf /content/sample_data\n",
        "!mkdir /content/sample_data\n",
        "\n",
        "!git clone https://github.com/justinjohn0306/Wav2Lip\n",
        "\n",
        "#download the pretrained model\n",
        "!wget 'https://iiitaphyd-my.sharepoint.com/personal/radrabha_m_research_iiit_ac_in/_layouts/15/download.aspx?share=EdjI7bZlgApMqsVoEUUXpLsBxqXbn5z8VTmoxp55YNDcIA' -O '/content/Wav2Lip/checkpoints/wav2lip_gan.pth'\n",
        "a = !pip install https://raw.githubusercontent.com/AwaleSajil/ghc/master/ghc-1.0-py3-none-any.whl\n",
        "\n",
        "\n",
        "# !pip uninstall tensorflow tensorflow-gpu\n",
        "!cd Wav2Lip && pip install -r requirements.txt\n",
        "\n",
        "#download pretrained model for face detection\n",
        "!wget \"https://www.adrianbulat.com/downloads/python-fan/s3fd-619a316812.pth\" -O \"/content/Wav2Lip/face_detection/detection/sfd/s3fd.pth\"\n",
        "\n",
        "!pip install ffmpeg-python"
      ],
      "metadata": {
        "id": "LQ7TdhDbAuZL"
      },
      "execution_count": null,
      "outputs": []
    },
    {
      "cell_type": "code",
      "source": [
        "from base64 import b64decode\n",
        "from base64 import b64encode\n",
        "import numpy as np\n",
        "from scipy.io.wavfile import read as wav_read\n",
        "import io\n",
        "import ffmpeg\n",
        "\n",
        "import os\n",
        "import shutil\n",
        "from google.colab import drive\n",
        "from google.colab import files\n",
        "import moviepy.editor as mp\n",
        "from moviepy.editor import VideoFileClip\n",
        "\n",
        "from IPython.display import HTML\n",
        "\n",
        "from IPython.display import Audio\n",
        "from IPython.core.display import display\n",
        "\n",
        "from moviepy.editor import VideoFileClip\n",
        "from IPython.display import clear_output\n",
        "from base64 import b64decode\n"
      ],
      "metadata": {
        "id": "A0R9qD5qAZe3"
      },
      "execution_count": 2,
      "outputs": []
    },
    {
      "cell_type": "markdown",
      "source": [
        "# Uploading video into colab\n",
        "\n",
        "The video was first uploaded into colab and then it's path was given as input below. I have converted the video into a lower resolution format because the Wave2Lip model was trained on a low resolution dataset.  "
      ],
      "metadata": {
        "id": "DniBnBnWIicQ"
      }
    },
    {
      "cell_type": "code",
      "source": [
        "from google.colab import drive\n",
        "drive.mount('/content/drive')"
      ],
      "metadata": {
        "id": "jwNozKBrQwYa",
        "colab": {
          "base_uri": "https://localhost:8080/"
        },
        "outputId": "728e97bd-692f-4a26-87bb-dde56fa47a18"
      },
      "execution_count": 3,
      "outputs": [
        {
          "output_type": "stream",
          "name": "stdout",
          "text": [
            "Mounted at /content/drive\n"
          ]
        }
      ]
    },
    {
      "cell_type": "code",
      "source": [
        "def get_resolution(video_path):\n",
        "    video = VideoFileClip(video_path)\n",
        "    return video.size\n",
        "\n",
        "\n",
        "def resize_video_to_720p(input_path, output_path):\n",
        "    clip = VideoFileClip(input_path)\n",
        "    resized_clip = clip.resize(height=720)\n",
        "    resized_clip.write_videofile(output_path, codec=\"libx264\", audio_codec=\"aac\")\n",
        "\n",
        "def showVideo(path):\n",
        "  mp4 = open(str(path),'rb').read()\n",
        "  data_url = \"data:video/mp4;base64,\" + b64encode(mp4).decode()\n",
        "  return HTML(\"\"\"\n",
        "  <video width=700 controls>\n",
        "        <source src=\"%s\" type=\"video/mp4\">\n",
        "  </video>\n",
        "  \"\"\" % data_url)\n",
        "\n",
        "# taking in the video file path .\n",
        "video_path = str(input(\"Input the path to your video file\"))\n",
        "\n",
        "resolution = get_resolution(video_path)\n",
        "print(\"The resolution of the given video :\", resolution)\n",
        "\n",
        "# I have saved the video file into /content/sample_data/input_vid.mp4 because it\n",
        "# becomes easier to work with the file. Sometimes the model does not consider\n",
        "#the video file if there are any blank spaces in it\n",
        "\n",
        "if resolution[0] > 1280 or resolution[1] > 720:\n",
        "  print(\"The model works well with low resolution videos. Hence I will be resizing the video \")\n",
        "  output_video_path = '/content/sample_data/input_vid.mp4'\n",
        "  resize_video_to_720p(video_path, output_video_path)\n",
        "  video_path = \"/content/sample_data/input_vid.mp4\"\n",
        "\n",
        "else:\n",
        "    print(\"No resizing needed\")\n"
      ],
      "metadata": {
        "id": "69UxZ1G_MFXi",
        "colab": {
          "base_uri": "https://localhost:8080/"
        },
        "outputId": "5ff1a3ad-7bbe-451c-d976-8724cfd6d363"
      },
      "execution_count": 5,
      "outputs": [
        {
          "output_type": "stream",
          "name": "stdout",
          "text": [
            "Input the path to video file/content/My_Movie _15.mp4\n",
            "The resolution of the given video : [1920, 1080]\n",
            "The model works well with low resolution videos. Hence I will be resizing the video \n",
            "Moviepy - Building video /content/sample_data/input_vid.mp4.\n",
            "MoviePy - Writing audio in input_vidTEMP_MPY_wvf_snd.mp4\n"
          ]
        },
        {
          "output_type": "stream",
          "name": "stderr",
          "text": []
        },
        {
          "output_type": "stream",
          "name": "stdout",
          "text": [
            "MoviePy - Done.\n",
            "Moviepy - Writing video /content/sample_data/input_vid.mp4\n",
            "\n"
          ]
        },
        {
          "output_type": "stream",
          "name": "stderr",
          "text": []
        },
        {
          "output_type": "stream",
          "name": "stdout",
          "text": [
            "Moviepy - Done !\n",
            "Moviepy - video ready /content/sample_data/input_vid.mp4\n"
          ]
        }
      ]
    },
    {
      "cell_type": "markdown",
      "source": [
        "## Uploading the audio file and then storing it in a preferred location"
      ],
      "metadata": {
        "id": "OfxKMrbQ_Len"
      }
    },
    {
      "cell_type": "code",
      "source": [
        "AUDIO_path = str(input(\"Input path to audio file\"))\n",
        "\n",
        "# Load audio with specified sampling rate\n",
        "import librosa\n",
        "audio, sr = librosa.load(AUDIO_path, sr=None)\n",
        "\n",
        "import soundfile as sf\n",
        "sf.write('/content/sample_data/input_audio.wav', audio, sr, format='wav')"
      ],
      "metadata": {
        "id": "RY_oqetV5E2G",
        "colab": {
          "base_uri": "https://localhost:8080/"
        },
        "outputId": "90d42b6d-b742-4ddc-dec7-139329ccfdfb"
      },
      "execution_count": 6,
      "outputs": [
        {
          "name": "stdout",
          "output_type": "stream",
          "text": [
            "Input path to audio file/content/15sec_audio.wav\n"
          ]
        }
      ]
    },
    {
      "cell_type": "markdown",
      "source": [
        "# This is the final code that trains the model.\n",
        "\n",
        "There are only a few parameters that can be altered while training and I have experimented with them. I have montioned the best values for each of the parameters that I found."
      ],
      "metadata": {
        "id": "UBnUINuf9tRJ"
      }
    },
    {
      "cell_type": "code",
      "source": [
        "pad_top =  15#@param {type:\"integer\"}\n",
        "pad_bottom =  5#@param {type:\"integer\"}\n",
        "pad_left =  -6#@param {type:\"integer\"}\n",
        "pad_right =  10#@param {type:\"integer\"}\n",
        "rescaleFactor =  1#@param {type:\"integer\"}\n",
        "nosmooth = False #@param {type:\"boolean\"}\n",
        "\n",
        "if nosmooth == False:\n",
        "  !cd Wav2Lip && python inference.py --checkpoint_path checkpoints/wav2lip_gan.pth --face \"../sample_data/input_vid.mp4\" --audio \"../sample_data/input_audio.wav\" --pads $pad_top $pad_bottom $pad_left $pad_right --resize_factor $rescaleFactor\n",
        "else:\n",
        "  !cd Wav2Lip && python inference.py --checkpoint_path checkpoints/wav2lip_gan.pth --face \"../sample_data/input_vid.mp4\" --audio \"../sample_data/input_audio.wav\" --pads $pad_top $pad_bottom $pad_left $pad_right --resize_factor $rescaleFactor --nosmooth\n"
      ],
      "metadata": {
        "id": "HdjerU8KNAwS",
        "colab": {
          "base_uri": "https://localhost:8080/"
        },
        "outputId": "81a0eb50-f0e6-47d0-9d6f-da4021624e3a"
      },
      "execution_count": 7,
      "outputs": [
        {
          "output_type": "stream",
          "name": "stdout",
          "text": [
            "Using cuda for inference.\n",
            "Reading video frames...\n",
            "Number of frames available for inference: 384\n",
            "(80, 1121)\n",
            "Length of mel chunks: 347\n",
            "  0% 0/3 [00:00<?, ?it/s]\n",
            "  0% 0/22 [00:00<?, ?it/s]\u001b[A\n",
            "  5% 1/22 [03:13<1:07:34, 193.08s/it]\u001b[A\n",
            "  9% 2/22 [03:16<27:07, 81.36s/it]   \u001b[A\n",
            " 14% 3/22 [03:19<14:24, 45.51s/it]\u001b[A\n",
            " 18% 4/22 [03:22<08:36, 28.71s/it]\u001b[A\n",
            " 23% 5/22 [03:25<05:32, 19.55s/it]\u001b[A\n",
            " 27% 6/22 [03:28<03:42, 13.88s/it]\u001b[A\n",
            " 32% 7/22 [03:31<02:34, 10.28s/it]\u001b[A\n",
            " 36% 8/22 [03:33<01:50,  7.92s/it]\u001b[A\n",
            " 41% 9/22 [03:36<01:22,  6.37s/it]\u001b[A\n",
            " 45% 10/22 [03:40<01:04,  5.37s/it]\u001b[A\n",
            " 50% 11/22 [03:42<00:50,  4.62s/it]\u001b[A\n",
            " 55% 12/22 [03:46<00:41,  4.17s/it]\u001b[A\n",
            " 59% 13/22 [03:48<00:33,  3.77s/it]\u001b[A\n",
            " 64% 14/22 [03:52<00:28,  3.57s/it]\u001b[A\n",
            " 68% 15/22 [03:55<00:24,  3.44s/it]\u001b[A\n",
            " 73% 16/22 [03:58<00:19,  3.26s/it]\u001b[A\n",
            " 77% 17/22 [04:00<00:15,  3.14s/it]\u001b[A\n",
            " 82% 18/22 [04:03<00:12,  3.09s/it]\u001b[A\n",
            " 86% 19/22 [04:07<00:09,  3.13s/it]\u001b[A\n",
            " 91% 20/22 [04:09<00:06,  3.05s/it]\u001b[A\n",
            " 95% 21/22 [04:12<00:02,  3.00s/it]\u001b[A\n",
            "100% 22/22 [04:40<00:00, 12.75s/it]\n",
            "Load checkpoint from: checkpoints/wav2lip_gan.pth\n",
            "Model loaded\n",
            "100% 3/3 [05:03<00:00, 101.29s/it]\n",
            "ffmpeg version 4.2.7-0ubuntu0.1 Copyright (c) 2000-2022 the FFmpeg developers\n",
            "  built with gcc 9 (Ubuntu 9.4.0-1ubuntu1~20.04.1)\n",
            "  configuration: --prefix=/usr --extra-version=0ubuntu0.1 --toolchain=hardened --libdir=/usr/lib/x86_64-linux-gnu --incdir=/usr/include/x86_64-linux-gnu --arch=amd64 --enable-gpl --disable-stripping --enable-avresample --disable-filter=resample --enable-avisynth --enable-gnutls --enable-ladspa --enable-libaom --enable-libass --enable-libbluray --enable-libbs2b --enable-libcaca --enable-libcdio --enable-libcodec2 --enable-libflite --enable-libfontconfig --enable-libfreetype --enable-libfribidi --enable-libgme --enable-libgsm --enable-libjack --enable-libmp3lame --enable-libmysofa --enable-libopenjpeg --enable-libopenmpt --enable-libopus --enable-libpulse --enable-librsvg --enable-librubberband --enable-libshine --enable-libsnappy --enable-libsoxr --enable-libspeex --enable-libssh --enable-libtheora --enable-libtwolame --enable-libvidstab --enable-libvorbis --enable-libvpx --enable-libwavpack --enable-libwebp --enable-libx265 --enable-libxml2 --enable-libxvid --enable-libzmq --enable-libzvbi --enable-lv2 --enable-omx --enable-openal --enable-opencl --enable-opengl --enable-sdl2 --enable-libdc1394 --enable-libdrm --enable-libiec61883 --enable-nvenc --enable-chromaprint --enable-frei0r --enable-libx264 --enable-shared\n",
            "  libavutil      56. 31.100 / 56. 31.100\n",
            "  libavcodec     58. 54.100 / 58. 54.100\n",
            "  libavformat    58. 29.100 / 58. 29.100\n",
            "  libavdevice    58.  8.100 / 58.  8.100\n",
            "  libavfilter     7. 57.100 /  7. 57.100\n",
            "  libavresample   4.  0.  0 /  4.  0.  0\n",
            "  libswscale      5.  5.100 /  5.  5.100\n",
            "  libswresample   3.  5.100 /  3.  5.100\n",
            "  libpostproc    55.  5.100 / 55.  5.100\n",
            "\u001b[0;33mGuessed Channel Layout for Input Stream #0.0 : mono\n",
            "\u001b[0mInput #0, wav, from '../sample_data/input_audio.wav':\n",
            "  Duration: 00:00:14.00, bitrate: 705 kb/s\n",
            "    Stream #0:0: Audio: pcm_s16le ([1][0][0][0] / 0x0001), 44100 Hz, mono, s16, 705 kb/s\n",
            "Input #1, avi, from 'temp/result.avi':\n",
            "  Metadata:\n",
            "    encoder         : Lavf59.27.100\n",
            "  Duration: 00:00:13.88, start: 0.000000, bitrate: 1495 kb/s\n",
            "    Stream #1:0: Video: mpeg4 (Simple Profile) (DIVX / 0x58564944), yuv420p, 1280x720 [SAR 1:1 DAR 16:9], 1492 kb/s, 25 fps, 25 tbr, 25 tbn, 25 tbc\n",
            "Stream mapping:\n",
            "  Stream #1:0 -> #0:0 (mpeg4 (native) -> h264 (libx264))\n",
            "  Stream #0:0 -> #0:1 (pcm_s16le (native) -> aac (native))\n",
            "Press [q] to stop, [?] for help\n",
            "\u001b[1;36m[libx264 @ 0x56c01d3b2280] \u001b[0m\u001b[0;33m-qscale is ignored, -crf is recommended.\n",
            "\u001b[0m\u001b[1;36m[libx264 @ 0x56c01d3b2280] \u001b[0musing SAR=1/1\n",
            "\u001b[1;36m[libx264 @ 0x56c01d3b2280] \u001b[0musing cpu capabilities: MMX2 SSE2Fast SSSE3 SSE4.2 AVX FMA3 BMI2 AVX2 AVX512\n",
            "\u001b[1;36m[libx264 @ 0x56c01d3b2280] \u001b[0mprofile High, level 3.1\n",
            "\u001b[1;36m[libx264 @ 0x56c01d3b2280] \u001b[0m264 - core 155 r2917 0a84d98 - H.264/MPEG-4 AVC codec - Copyleft 2003-2018 - http://www.videolan.org/x264.html - options: cabac=1 ref=3 deblock=1:0:0 analyse=0x3:0x113 me=hex subme=7 psy=1 psy_rd=1.00:0.00 mixed_ref=1 me_range=16 chroma_me=1 trellis=1 8x8dct=1 cqm=0 deadzone=21,11 fast_pskip=1 chroma_qp_offset=-2 threads=3 lookahead_threads=1 sliced_threads=0 nr=0 decimate=1 interlaced=0 bluray_compat=0 constrained_intra=0 bframes=3 b_pyramid=2 b_adapt=1 b_bias=0 direct=1 weightb=1 open_gop=0 weightp=2 keyint=250 keyint_min=25 scenecut=40 intra_refresh=0 rc_lookahead=40 rc=crf mbtree=1 crf=23.0 qcomp=0.60 qpmin=0 qpmax=69 qpstep=4 ip_ratio=1.40 aq=1:1.00\n",
            "Output #0, mp4, to 'results/result_voice.mp4':\n",
            "  Metadata:\n",
            "    encoder         : Lavf58.29.100\n",
            "    Stream #0:0: Video: h264 (libx264) (avc1 / 0x31637661), yuv420p(progressive), 1280x720 [SAR 1:1 DAR 16:9], q=-1--1, 25 fps, 12800 tbn, 25 tbc\n",
            "    Metadata:\n",
            "      encoder         : Lavc58.54.100 libx264\n",
            "    Side data:\n",
            "      cpb: bitrate max/min/avg: 0/0/0 buffer size: 0 vbv_delay: -1\n",
            "    Stream #0:1: Audio: aac (LC) (mp4a / 0x6134706D), 44100 Hz, mono, fltp, 69 kb/s\n",
            "    Metadata:\n",
            "      encoder         : Lavc58.54.100 aac\n",
            "frame=  347 fps= 31 q=-1.0 Lsize=    1325kB time=00:00:14.00 bitrate= 775.0kbits/s speed=1.23x    \n",
            "video:1193kB audio:119kB subtitle:0kB other streams:0kB global headers:0kB muxing overhead: 0.959059%\n",
            "\u001b[1;36m[libx264 @ 0x56c01d3b2280] \u001b[0mframe I:2     Avg QP:16.03  size: 22636\n",
            "\u001b[1;36m[libx264 @ 0x56c01d3b2280] \u001b[0mframe P:130   Avg QP:18.70  size:  6063\n",
            "\u001b[1;36m[libx264 @ 0x56c01d3b2280] \u001b[0mframe B:215   Avg QP:22.11  size:  1802\n",
            "\u001b[1;36m[libx264 @ 0x56c01d3b2280] \u001b[0mconsecutive B-frames: 13.3% 11.5%  2.6% 72.6%\n",
            "\u001b[1;36m[libx264 @ 0x56c01d3b2280] \u001b[0mmb I  I16..4: 42.4% 53.7%  3.9%\n",
            "\u001b[1;36m[libx264 @ 0x56c01d3b2280] \u001b[0mmb P  I16..4:  2.3%  7.7%  0.2%  P16..4: 18.7%  5.8%  3.0%  0.0%  0.0%    skip:62.3%\n",
            "\u001b[1;36m[libx264 @ 0x56c01d3b2280] \u001b[0mmb B  I16..4:  0.2%  0.8%  0.0%  B16..8: 20.3%  1.3%  0.1%  direct: 2.1%  skip:75.2%  L0:48.0% L1:49.7% BI: 2.3%\n",
            "\u001b[1;36m[libx264 @ 0x56c01d3b2280] \u001b[0m8x8 transform intra:73.5% inter:84.0%\n",
            "\u001b[1;36m[libx264 @ 0x56c01d3b2280] \u001b[0mcoded y,uvDC,uvAC intra: 24.6% 36.2% 6.7% inter: 3.9% 6.3% 0.1%\n",
            "\u001b[1;36m[libx264 @ 0x56c01d3b2280] \u001b[0mi16 v,h,dc,p: 59% 24% 12%  5%\n",
            "\u001b[1;36m[libx264 @ 0x56c01d3b2280] \u001b[0mi8 v,h,dc,ddl,ddr,vr,hd,vl,hu: 32% 18% 40%  2%  1%  2%  2%  1%  2%\n",
            "\u001b[1;36m[libx264 @ 0x56c01d3b2280] \u001b[0mi4 v,h,dc,ddl,ddr,vr,hd,vl,hu: 29% 30% 12%  4%  7%  6%  6%  3%  3%\n",
            "\u001b[1;36m[libx264 @ 0x56c01d3b2280] \u001b[0mi8c dc,h,v,p: 50% 23% 23%  3%\n",
            "\u001b[1;36m[libx264 @ 0x56c01d3b2280] \u001b[0mWeighted P-Frames: Y:0.0% UV:0.0%\n",
            "\u001b[1;36m[libx264 @ 0x56c01d3b2280] \u001b[0mref P L0: 67.2% 10.3% 16.1%  6.4%\n",
            "\u001b[1;36m[libx264 @ 0x56c01d3b2280] \u001b[0mref B L0: 84.8% 11.4%  3.8%\n",
            "\u001b[1;36m[libx264 @ 0x56c01d3b2280] \u001b[0mref B L1: 95.3%  4.7%\n",
            "\u001b[1;36m[libx264 @ 0x56c01d3b2280] \u001b[0mkb/s:703.73\n",
            "\u001b[1;36m[aac @ 0x56c01d3beec0] \u001b[0mQavg: 115.266\n"
          ]
        }
      ]
    },
    {
      "cell_type": "markdown",
      "source": [
        "## Code for final video preview"
      ],
      "metadata": {
        "id": "CoTo19NR-8ol"
      }
    },
    {
      "cell_type": "code",
      "source": [
        "print(\"Final Video Preview\")\n",
        "print(\"Download this video from\", '/content/Wav2Lip/results/result_voice.mp4')\n",
        "showVideo('/content/Wav2Lip/results/result_voice.mp4')"
      ],
      "metadata": {
        "id": "blSFnJOaj1xW"
      },
      "execution_count": null,
      "outputs": []
    },
    {
      "cell_type": "code",
      "source": [],
      "metadata": {
        "id": "gDjEChx3I5Ts"
      },
      "execution_count": null,
      "outputs": []
    }
  ]
}